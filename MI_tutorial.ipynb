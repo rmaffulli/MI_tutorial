{
  "nbformat": 4,
  "nbformat_minor": 0,
  "metadata": {
    "colab": {
      "name": "MI_tutorial.ipynb",
      "provenance": [],
      "toc_visible": true,
      "authorship_tag": "ABX9TyOLiyEQR3KNAK3OOBOJucr2",
      "include_colab_link": true
    },
    "kernelspec": {
      "name": "python3",
      "display_name": "Python 3"
    }
  },
  "cells": [
    {
      "cell_type": "markdown",
      "metadata": {
        "id": "view-in-github",
        "colab_type": "text"
      },
      "source": [
        "<a href=\"https://colab.research.google.com/github/rmaffulli/MI_tutorial/blob/main/MI_tutorial.ipynb\" target=\"_parent\"><img src=\"https://colab.research.google.com/assets/colab-badge.svg\" alt=\"Open In Colab\"/></a>"
      ]
    },
    {
      "cell_type": "markdown",
      "metadata": {
        "id": "exoz57mj2FzI"
      },
      "source": [
        "# Tutorial on Information Theory in neuroscience\n",
        "Aims of the tutorial:\n",
        "- Understand the concept of entropy and quantify entropy in a signal\n",
        "- Binning strategies\n",
        "- Define mutual information and calculate it for a Poisson spiking neuron\n",
        "- Bias: origin, implications and mitigation strategies\n",
        "- The effect of correlated firing on information transmission"
      ]
    },
    {
      "cell_type": "markdown",
      "metadata": {
        "id": "HkWtYk-98bih"
      },
      "source": [
        "---\n",
        "# Setup"
      ]
    },
    {
      "cell_type": "code",
      "metadata": {
        "id": "0BrM9Dwl1fNH"
      },
      "source": [
        "#@title Import\n",
        "import numpy as np\n",
        "import random as rnd\n",
        "from matplotlib import pyplot as plt\n",
        "\n",
        "rnd.seed(2020)"
      ],
      "execution_count": null,
      "outputs": []
    },
    {
      "cell_type": "code",
      "metadata": {
        "id": "-_kx3sSw7X4Z"
      },
      "source": [
        "#@title Figure settings\n",
        "%config InlineBackend.figure_format = 'retina'\n",
        "plt.style.use(\"https://raw.githubusercontent.com/NeuromatchAcademy/course-content/master/nma.mplstyle\")"
      ],
      "execution_count": null,
      "outputs": []
    }
  ]
}